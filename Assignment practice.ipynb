{
 "cells": [
  {
   "cell_type": "code",
   "execution_count": 1,
   "id": "4070b327",
   "metadata": {},
   "outputs": [],
   "source": [
    "\n",
    "from scipy import stats\n",
    "import pandas as pd\n",
    "import numpy as np\n",
    "\n",
    "import scipy"
   ]
  },
  {
   "cell_type": "code",
   "execution_count": 13,
   "id": "18c50965",
   "metadata": {},
   "outputs": [],
   "source": [
    "l=[108, 110, 123, 134, 135, 145, 167, 187, 199]"
   ]
  },
  {
   "cell_type": "code",
   "execution_count": 16,
   "id": "a105f667",
   "metadata": {},
   "outputs": [
    {
     "data": {
      "text/plain": [
       "145.33333333333334"
      ]
     },
     "execution_count": 16,
     "metadata": {},
     "output_type": "execute_result"
    }
   ],
   "source": [
    "mean= np.mean(l)\n",
    "mean\n"
   ]
  },
  {
   "cell_type": "code",
   "execution_count": null,
   "id": "b091c041",
   "metadata": {},
   "outputs": [],
   "source": []
  },
  {
   "cell_type": "code",
   "execution_count": 15,
   "id": "7c1dbac5",
   "metadata": {},
   "outputs": [
    {
     "data": {
      "text/plain": [
       "145.33333333333334"
      ]
     },
     "execution_count": 15,
     "metadata": {},
     "output_type": "execute_result"
    }
   ],
   "source": [
    "mean"
   ]
  },
  {
   "cell_type": "code",
   "execution_count": 8,
   "id": "e4bc1077",
   "metadata": {},
   "outputs": [],
   "source": [
    "q_12= [34,36,36,38,38,39,39,40,40,41,41,41,41,42,42,45,49,56]"
   ]
  },
  {
   "cell_type": "code",
   "execution_count": 9,
   "id": "2ed44958",
   "metadata": {},
   "outputs": [
    {
     "data": {
      "text/plain": [
       "(41.0, 40.5, 24.11111111111111, 4.910306620885412)"
      ]
     },
     "execution_count": 9,
     "metadata": {},
     "output_type": "execute_result"
    }
   ],
   "source": [
    "q_12_mean=np.mean(q_12)\n",
    "q_12_median=np.median(q_12)\n",
    "q_12_var=np.var(q_12)\n",
    "q_12_sd=np.std(q_12)\n",
    "\n",
    "q_12_mean, q_12_median, q_12_var, q_12_sd"
   ]
  },
  {
   "cell_type": "code",
   "execution_count": 10,
   "id": "d9d5f2e7",
   "metadata": {},
   "outputs": [
    {
     "data": {
      "text/plain": [
       "0.2533471031357997"
      ]
     },
     "execution_count": 10,
     "metadata": {},
     "output_type": "execute_result"
    }
   ],
   "source": [
    "stats.norm.ppf(0.60)"
   ]
  },
  {
   "cell_type": "code",
   "execution_count": 11,
   "id": "a8a5c16f",
   "metadata": {},
   "outputs": [
    {
     "data": {
      "text/plain": [
       "1.2815515655446004"
      ]
     },
     "execution_count": 11,
     "metadata": {},
     "output_type": "execute_result"
    }
   ],
   "source": [
    "stats.norm.ppf(0.90)"
   ]
  },
  {
   "cell_type": "code",
   "execution_count": 12,
   "id": "c36076ff",
   "metadata": {},
   "outputs": [
    {
     "data": {
      "text/plain": [
       "1.5547735945968535"
      ]
     },
     "execution_count": 12,
     "metadata": {},
     "output_type": "execute_result"
    }
   ],
   "source": [
    "stats.norm.ppf(0.94)"
   ]
  },
  {
   "cell_type": "code",
   "execution_count": null,
   "id": "996a68e9",
   "metadata": {},
   "outputs": [],
   "source": []
  },
  {
   "cell_type": "code",
   "execution_count": 13,
   "id": "961f6a80",
   "metadata": {},
   "outputs": [],
   "source": [
    "list=[(1*0.015)+(4*0.20)+(3*0.65)+(5*0.005)+(6*0.01)+(2*0.120)]\n"
   ]
  },
  {
   "cell_type": "code",
   "execution_count": 14,
   "id": "6c520373",
   "metadata": {},
   "outputs": [
    {
     "data": {
      "text/plain": [
       "[3.09]"
      ]
     },
     "execution_count": 14,
     "metadata": {},
     "output_type": "execute_result"
    }
   ],
   "source": [
    "[(1*0.015)+(4*0.20)+(3*0.65)+(5*0.005)+(6*0.01)+(2*0.120)]\n"
   ]
  },
  {
   "cell_type": "code",
   "execution_count": 3,
   "id": "4c370483",
   "metadata": {},
   "outputs": [
    {
     "name": "stdout",
     "output_type": "stream",
     "text": [
      " Volume in drive C is Windows-SSD\n",
      " Volume Serial Number is 72E3-1983\n",
      "\n",
      " Directory of C:\\Users\\kulde\\ExcelR\\Self Practice\n",
      "\n",
      "31-10-2022  23:54    <DIR>          .\n",
      "25-10-2022  11:05    <DIR>          ..\n",
      "20-10-2022  13:15    <DIR>          .ipynb_checkpoints\n",
      "19-10-2022  08:28           131,680 AI [Regression ].ipynb\n",
      "31-10-2022  23:54            54,943 Assignment practice.ipynb\n",
      "20-10-2022  22:18             3,527 Cars.csv\n",
      "21-10-2022  09:08           161,031 ML.ipynb\n",
      "16-10-2022  16:10               962 Q7.csv\n",
      "20-10-2022  15:03               502 Q9_a.csv\n",
      "20-10-2022  15:03             2,420 Q9_b.csv\n",
      "18-10-2022  18:59               355 q9ml.csv\n",
      "28-09-2022  07:06            21,677 SP  27 Sep.ipynb\n",
      "29-09-2022  08:24            12,633 SP 28 Sep.ipynb\n",
      "29-09-2022  21:30            15,589 SP 29 Sep.ipynb\n",
      "30-09-2022  17:41               589 SP 30 Sep.ipynb\n",
      "20-10-2022  23:32           324,797 Untitled.ipynb\n",
      "18-10-2022  20:28             1,172 wc-at.csv\n",
      "              14 File(s)        731,877 bytes\n",
      "               3 Dir(s)  358,211,866,624 bytes free\n"
     ]
    }
   ],
   "source": [
    "ls"
   ]
  },
  {
   "cell_type": "code",
   "execution_count": 12,
   "id": "05260146",
   "metadata": {},
   "outputs": [
    {
     "data": {
      "text/html": [
       "<div>\n",
       "<style scoped>\n",
       "    .dataframe tbody tr th:only-of-type {\n",
       "        vertical-align: middle;\n",
       "    }\n",
       "\n",
       "    .dataframe tbody tr th {\n",
       "        vertical-align: top;\n",
       "    }\n",
       "\n",
       "    .dataframe thead th {\n",
       "        text-align: right;\n",
       "    }\n",
       "</style>\n",
       "<table border=\"1\" class=\"dataframe\">\n",
       "  <thead>\n",
       "    <tr style=\"text-align: right;\">\n",
       "      <th></th>\n",
       "      <th>Points</th>\n",
       "      <th>Score</th>\n",
       "      <th>Weigh</th>\n",
       "    </tr>\n",
       "  </thead>\n",
       "  <tbody>\n",
       "    <tr>\n",
       "      <th>count</th>\n",
       "      <td>32.000000</td>\n",
       "      <td>32.000000</td>\n",
       "      <td>32.000000</td>\n",
       "    </tr>\n",
       "    <tr>\n",
       "      <th>mean</th>\n",
       "      <td>3.596563</td>\n",
       "      <td>3.217250</td>\n",
       "      <td>17.848750</td>\n",
       "    </tr>\n",
       "    <tr>\n",
       "      <th>std</th>\n",
       "      <td>0.534679</td>\n",
       "      <td>0.978457</td>\n",
       "      <td>1.786943</td>\n",
       "    </tr>\n",
       "    <tr>\n",
       "      <th>min</th>\n",
       "      <td>2.760000</td>\n",
       "      <td>1.513000</td>\n",
       "      <td>14.500000</td>\n",
       "    </tr>\n",
       "    <tr>\n",
       "      <th>25%</th>\n",
       "      <td>3.080000</td>\n",
       "      <td>2.581250</td>\n",
       "      <td>16.892500</td>\n",
       "    </tr>\n",
       "    <tr>\n",
       "      <th>50%</th>\n",
       "      <td>3.695000</td>\n",
       "      <td>3.325000</td>\n",
       "      <td>17.710000</td>\n",
       "    </tr>\n",
       "    <tr>\n",
       "      <th>75%</th>\n",
       "      <td>3.920000</td>\n",
       "      <td>3.610000</td>\n",
       "      <td>18.900000</td>\n",
       "    </tr>\n",
       "    <tr>\n",
       "      <th>max</th>\n",
       "      <td>4.930000</td>\n",
       "      <td>5.424000</td>\n",
       "      <td>22.900000</td>\n",
       "    </tr>\n",
       "  </tbody>\n",
       "</table>\n",
       "</div>"
      ],
      "text/plain": [
       "          Points      Score      Weigh\n",
       "count  32.000000  32.000000  32.000000\n",
       "mean    3.596563   3.217250  17.848750\n",
       "std     0.534679   0.978457   1.786943\n",
       "min     2.760000   1.513000  14.500000\n",
       "25%     3.080000   2.581250  16.892500\n",
       "50%     3.695000   3.325000  17.710000\n",
       "75%     3.920000   3.610000  18.900000\n",
       "max     4.930000   5.424000  22.900000"
      ]
     },
     "execution_count": 12,
     "metadata": {},
     "output_type": "execute_result"
    }
   ],
   "source": [
    "Q7=pd.read_csv('Q7.csv')\n",
    "Q7.describe()"
   ]
  },
  {
   "cell_type": "code",
   "execution_count": 7,
   "id": "1260f361",
   "metadata": {},
   "outputs": [
    {
     "data": {
      "text/plain": [
       "((3.5965625000000006,),\n",
       " (3.6950000000000003,),\n",
       " (0.5346787360709716,),\n",
       " (0.28588135080645166,),\n",
       " (3.2172499999999995,),\n",
       " (3.325,),\n",
       " (0.9784574429896967,),\n",
       " (0.9573789677419356,),\n",
       " (17.848750000000003,),\n",
       " (17.71,),\n",
       " (1.7869432360968431,),\n",
       " (3.193166129032258,))"
      ]
     },
     "execution_count": 7,
     "metadata": {},
     "output_type": "execute_result"
    }
   ],
   "source": [
    "Q7_mean_p=Q7.Points.mean(),\n",
    "Q7_median_p=Q7.Points.median(),\n",
    "Q7_sd_p=Q7.Points.std(),\n",
    "Q7_vr_p=Q7.Points.var(),\n",
    "\n",
    "\n",
    "Q7_mean_s=Q7.Score.mean(),\n",
    "Q7_median_s=Q7.Score.median(),\n",
    "Q7_sd_s=Q7.Score.std(),\n",
    "Q7_vr_s=Q7.Score.var(),\n",
    "\n",
    "\n",
    "Q7_mean_w=Q7.Weigh.mean(),\n",
    "Q7_median_w=Q7.Weigh.median(),\n",
    "Q7_sd_w=Q7.Weigh.std(),\n",
    "Q7_vr_w=Q7.Weigh.var(),\n",
    "\n",
    "Q7_mean_p, Q7_median_p, Q7_sd_p, Q7_vr_p, Q7_mean_s, Q7_median_s, Q7_sd_s, Q7_vr_s, Q7_mean_w, Q7_median_w, Q7_sd_w, Q7_vr_w"
   ]
  },
  {
   "cell_type": "code",
   "execution_count": 20,
   "id": "9b5d5895",
   "metadata": {},
   "outputs": [
    {
     "data": {
      "text/plain": [
       "(3.5965625000000006,)"
      ]
     },
     "execution_count": 20,
     "metadata": {},
     "output_type": "execute_result"
    }
   ],
   "source": [
    "Q7_mean_p\n",
    "\n",
    "# For POINTS-\n",
    "# mean=3.596\n",
    "# median=3.695\n",
    "# mode=\n",
    "# standard deviation=0.534\n",
    "# veriance=0.285\n",
    "\n",
    "# For SCORE-\n",
    "# mean=3.217\n",
    "# median=3.325\n",
    "# mode=\n",
    "# standard deviation=0.978\n",
    "# veriance=0.957\n",
    "\n",
    "# For WEIGH-\n",
    "# mean=17.848\n",
    "# median=17.71\n",
    "# mode=\n",
    "# standard deviation=1.786\n",
    "# veriance=3.193"
   ]
  },
  {
   "cell_type": "code",
   "execution_count": 59,
   "id": "fb93742c",
   "metadata": {},
   "outputs": [
    {
     "data": {
      "text/plain": [
       "(3.6950000000000003,)"
      ]
     },
     "execution_count": 59,
     "metadata": {},
     "output_type": "execute_result"
    }
   ],
   "source": [
    "Q7_median_p"
   ]
  },
  {
   "cell_type": "code",
   "execution_count": 60,
   "id": "9d08f43b",
   "metadata": {},
   "outputs": [
    {
     "data": {
      "text/plain": [
       "(0.5346787360709716,)"
      ]
     },
     "execution_count": 60,
     "metadata": {},
     "output_type": "execute_result"
    }
   ],
   "source": [
    "Q7_sd_p"
   ]
  },
  {
   "cell_type": "code",
   "execution_count": 61,
   "id": "05babc96",
   "metadata": {},
   "outputs": [
    {
     "data": {
      "text/plain": [
       "(0.28588135080645166,)"
      ]
     },
     "execution_count": 61,
     "metadata": {},
     "output_type": "execute_result"
    }
   ],
   "source": [
    "Q7_vr_p"
   ]
  },
  {
   "cell_type": "code",
   "execution_count": 62,
   "id": "9f9fc25a",
   "metadata": {},
   "outputs": [
    {
     "data": {
      "text/plain": [
       "(3.2172499999999995,)"
      ]
     },
     "execution_count": 62,
     "metadata": {},
     "output_type": "execute_result"
    }
   ],
   "source": [
    "Q7_mean_s"
   ]
  },
  {
   "cell_type": "code",
   "execution_count": 63,
   "id": "f25bb34e",
   "metadata": {},
   "outputs": [
    {
     "data": {
      "text/plain": [
       "(3.325,)"
      ]
     },
     "execution_count": 63,
     "metadata": {},
     "output_type": "execute_result"
    }
   ],
   "source": [
    "Q7_median_s"
   ]
  },
  {
   "cell_type": "code",
   "execution_count": 64,
   "id": "06f927d3",
   "metadata": {},
   "outputs": [
    {
     "data": {
      "text/plain": [
       "(0.9784574429896967,)"
      ]
     },
     "execution_count": 64,
     "metadata": {},
     "output_type": "execute_result"
    }
   ],
   "source": [
    "Q7_sd_s"
   ]
  },
  {
   "cell_type": "code",
   "execution_count": 65,
   "id": "113f5f08",
   "metadata": {},
   "outputs": [
    {
     "data": {
      "text/plain": [
       "(0.9573789677419356,)"
      ]
     },
     "execution_count": 65,
     "metadata": {},
     "output_type": "execute_result"
    }
   ],
   "source": [
    "Q7_vr_s"
   ]
  },
  {
   "cell_type": "code",
   "execution_count": 66,
   "id": "26ab0a46",
   "metadata": {},
   "outputs": [
    {
     "data": {
      "text/plain": [
       "(17.848750000000003,)"
      ]
     },
     "execution_count": 66,
     "metadata": {},
     "output_type": "execute_result"
    }
   ],
   "source": [
    "Q7_mean_w"
   ]
  },
  {
   "cell_type": "code",
   "execution_count": 67,
   "id": "0eafae39",
   "metadata": {},
   "outputs": [
    {
     "data": {
      "text/plain": [
       "(17.71,)"
      ]
     },
     "execution_count": 67,
     "metadata": {},
     "output_type": "execute_result"
    }
   ],
   "source": [
    "Q7_median_w"
   ]
  },
  {
   "cell_type": "code",
   "execution_count": 68,
   "id": "18251e61",
   "metadata": {},
   "outputs": [
    {
     "data": {
      "text/plain": [
       "(1.7869432360968431,)"
      ]
     },
     "execution_count": 68,
     "metadata": {},
     "output_type": "execute_result"
    }
   ],
   "source": [
    "Q7_sd_w"
   ]
  },
  {
   "cell_type": "code",
   "execution_count": 69,
   "id": "11e02e92",
   "metadata": {},
   "outputs": [
    {
     "data": {
      "text/plain": [
       "(3.193166129032258,)"
      ]
     },
     "execution_count": 69,
     "metadata": {},
     "output_type": "execute_result"
    }
   ],
   "source": [
    "Q7_vr_w"
   ]
  },
  {
   "cell_type": "code",
   "execution_count": 82,
   "id": "43f20d9e",
   "metadata": {},
   "outputs": [
    {
     "data": {
      "text/plain": [
       "2.17"
      ]
     },
     "execution_count": 82,
     "metadata": {},
     "output_type": "execute_result"
    }
   ],
   "source": [
    "Q7_range_p=(4.93-2.76)\n",
    "Q7_range_p"
   ]
  },
  {
   "cell_type": "code",
   "execution_count": 83,
   "id": "cd03b497",
   "metadata": {},
   "outputs": [
    {
     "data": {
      "text/plain": [
       "3.9110000000000005"
      ]
     },
     "execution_count": 83,
     "metadata": {},
     "output_type": "execute_result"
    }
   ],
   "source": [
    "Q7_range_s=(5.424-1.513)\n",
    "Q7_range_s"
   ]
  },
  {
   "cell_type": "code",
   "execution_count": 87,
   "id": "d2fde350",
   "metadata": {},
   "outputs": [
    {
     "data": {
      "text/plain": [
       "8.399999999999999"
      ]
     },
     "execution_count": 87,
     "metadata": {},
     "output_type": "execute_result"
    }
   ],
   "source": [
    "Q7_range_w=(22.9-14.5)\n",
    "Q7_range_w"
   ]
  },
  {
   "cell_type": "code",
   "execution_count": null,
   "id": "36caf0e4",
   "metadata": {},
   "outputs": [],
   "source": []
  },
  {
   "cell_type": "code",
   "execution_count": 112,
   "id": "7fa717b3",
   "metadata": {},
   "outputs": [],
   "source": [
    "mean=200\n",
    "std=30"
   ]
  },
  {
   "cell_type": "code",
   "execution_count": 34,
   "id": "2bdddbd2",
   "metadata": {},
   "outputs": [
    {
     "name": "stdout",
     "output_type": "stream",
     "text": [
      " Volume in drive C is Windows-SSD\n",
      " Volume Serial Number is 72E3-1983\n",
      "\n",
      " Directory of C:\\Users\\kulde\\ExcelR\\Self Practice\n",
      "\n",
      "01-11-2022  00:50    <DIR>          .\n",
      "25-10-2022  11:05    <DIR>          ..\n",
      "20-10-2022  13:15    <DIR>          .ipynb_checkpoints\n",
      "19-10-2022  08:28           131,680 AI [Regression ].ipynb\n",
      "01-11-2022  00:50            48,753 Assignment practice.ipynb\n",
      "20-10-2022  22:18             3,527 Cars.csv\n",
      "21-10-2022  09:08           161,031 ML.ipynb\n",
      "16-10-2022  16:10               962 Q7.csv\n",
      "20-10-2022  15:03               502 Q9_a.csv\n",
      "20-10-2022  15:03             2,420 Q9_b.csv\n",
      "18-10-2022  18:59               355 q9ml.csv\n",
      "28-09-2022  07:06            21,677 SP  27 Sep.ipynb\n",
      "29-09-2022  08:24            12,633 SP 28 Sep.ipynb\n",
      "29-09-2022  21:30            15,589 SP 29 Sep.ipynb\n",
      "30-09-2022  17:41               589 SP 30 Sep.ipynb\n",
      "20-10-2022  23:32           324,797 Untitled.ipynb\n",
      "18-10-2022  20:28             1,172 wc-at.csv\n",
      "              14 File(s)        725,687 bytes\n",
      "               3 Dir(s)  358,186,295,296 bytes free\n"
     ]
    }
   ],
   "source": [
    "ls"
   ]
  },
  {
   "cell_type": "code",
   "execution_count": 35,
   "id": "832d106f",
   "metadata": {},
   "outputs": [],
   "source": [
    "q9_b=pd.read_csv(\"Q9_b.csv\")"
   ]
  },
  {
   "cell_type": "code",
   "execution_count": 36,
   "id": "a597bde9",
   "metadata": {},
   "outputs": [
    {
     "data": {
      "text/plain": [
       "(Unnamed: 0    0.000000\n",
       " SP            1.611450\n",
       " WT           -0.614753\n",
       " dtype: float64,\n",
       " Unnamed: 0   -1.200000\n",
       " SP            2.977329\n",
       " WT            0.950291\n",
       " dtype: float64)"
      ]
     },
     "execution_count": 36,
     "metadata": {},
     "output_type": "execute_result"
    }
   ],
   "source": [
    "q9_b_skewness=q9_b.skew()\n",
    "q9_b_kutosis=q9_b.kurt()\n",
    "\n",
    "q9_b_skewness, q9_b_kutosis"
   ]
  },
  {
   "cell_type": "code",
   "execution_count": 9,
   "id": "689b461c",
   "metadata": {},
   "outputs": [],
   "source": [
    "q9_a=pd.read_csv(\"q9ml.csv\")"
   ]
  },
  {
   "cell_type": "code",
   "execution_count": 10,
   "id": "3f2fb727",
   "metadata": {},
   "outputs": [
    {
     "data": {
      "text/html": [
       "<div>\n",
       "<style scoped>\n",
       "    .dataframe tbody tr th:only-of-type {\n",
       "        vertical-align: middle;\n",
       "    }\n",
       "\n",
       "    .dataframe tbody tr th {\n",
       "        vertical-align: top;\n",
       "    }\n",
       "\n",
       "    .dataframe thead th {\n",
       "        text-align: right;\n",
       "    }\n",
       "</style>\n",
       "<table border=\"1\" class=\"dataframe\">\n",
       "  <thead>\n",
       "    <tr style=\"text-align: right;\">\n",
       "      <th></th>\n",
       "      <th>speed</th>\n",
       "      <th>dist</th>\n",
       "    </tr>\n",
       "  </thead>\n",
       "  <tbody>\n",
       "    <tr>\n",
       "      <th>0</th>\n",
       "      <td>4</td>\n",
       "      <td>2</td>\n",
       "    </tr>\n",
       "    <tr>\n",
       "      <th>1</th>\n",
       "      <td>4</td>\n",
       "      <td>10</td>\n",
       "    </tr>\n",
       "    <tr>\n",
       "      <th>2</th>\n",
       "      <td>7</td>\n",
       "      <td>4</td>\n",
       "    </tr>\n",
       "    <tr>\n",
       "      <th>3</th>\n",
       "      <td>7</td>\n",
       "      <td>22</td>\n",
       "    </tr>\n",
       "    <tr>\n",
       "      <th>4</th>\n",
       "      <td>8</td>\n",
       "      <td>16</td>\n",
       "    </tr>\n",
       "    <tr>\n",
       "      <th>5</th>\n",
       "      <td>9</td>\n",
       "      <td>10</td>\n",
       "    </tr>\n",
       "    <tr>\n",
       "      <th>6</th>\n",
       "      <td>10</td>\n",
       "      <td>18</td>\n",
       "    </tr>\n",
       "    <tr>\n",
       "      <th>7</th>\n",
       "      <td>10</td>\n",
       "      <td>26</td>\n",
       "    </tr>\n",
       "    <tr>\n",
       "      <th>8</th>\n",
       "      <td>10</td>\n",
       "      <td>34</td>\n",
       "    </tr>\n",
       "    <tr>\n",
       "      <th>9</th>\n",
       "      <td>11</td>\n",
       "      <td>17</td>\n",
       "    </tr>\n",
       "    <tr>\n",
       "      <th>10</th>\n",
       "      <td>11</td>\n",
       "      <td>28</td>\n",
       "    </tr>\n",
       "    <tr>\n",
       "      <th>11</th>\n",
       "      <td>12</td>\n",
       "      <td>14</td>\n",
       "    </tr>\n",
       "    <tr>\n",
       "      <th>12</th>\n",
       "      <td>12</td>\n",
       "      <td>20</td>\n",
       "    </tr>\n",
       "    <tr>\n",
       "      <th>13</th>\n",
       "      <td>12</td>\n",
       "      <td>24</td>\n",
       "    </tr>\n",
       "    <tr>\n",
       "      <th>14</th>\n",
       "      <td>12</td>\n",
       "      <td>28</td>\n",
       "    </tr>\n",
       "    <tr>\n",
       "      <th>15</th>\n",
       "      <td>13</td>\n",
       "      <td>26</td>\n",
       "    </tr>\n",
       "    <tr>\n",
       "      <th>16</th>\n",
       "      <td>13</td>\n",
       "      <td>34</td>\n",
       "    </tr>\n",
       "    <tr>\n",
       "      <th>17</th>\n",
       "      <td>13</td>\n",
       "      <td>34</td>\n",
       "    </tr>\n",
       "    <tr>\n",
       "      <th>18</th>\n",
       "      <td>13</td>\n",
       "      <td>46</td>\n",
       "    </tr>\n",
       "    <tr>\n",
       "      <th>19</th>\n",
       "      <td>14</td>\n",
       "      <td>26</td>\n",
       "    </tr>\n",
       "    <tr>\n",
       "      <th>20</th>\n",
       "      <td>14</td>\n",
       "      <td>36</td>\n",
       "    </tr>\n",
       "    <tr>\n",
       "      <th>21</th>\n",
       "      <td>14</td>\n",
       "      <td>60</td>\n",
       "    </tr>\n",
       "    <tr>\n",
       "      <th>22</th>\n",
       "      <td>14</td>\n",
       "      <td>80</td>\n",
       "    </tr>\n",
       "    <tr>\n",
       "      <th>23</th>\n",
       "      <td>15</td>\n",
       "      <td>20</td>\n",
       "    </tr>\n",
       "    <tr>\n",
       "      <th>24</th>\n",
       "      <td>15</td>\n",
       "      <td>26</td>\n",
       "    </tr>\n",
       "    <tr>\n",
       "      <th>25</th>\n",
       "      <td>15</td>\n",
       "      <td>54</td>\n",
       "    </tr>\n",
       "    <tr>\n",
       "      <th>26</th>\n",
       "      <td>16</td>\n",
       "      <td>32</td>\n",
       "    </tr>\n",
       "    <tr>\n",
       "      <th>27</th>\n",
       "      <td>16</td>\n",
       "      <td>40</td>\n",
       "    </tr>\n",
       "    <tr>\n",
       "      <th>28</th>\n",
       "      <td>17</td>\n",
       "      <td>32</td>\n",
       "    </tr>\n",
       "    <tr>\n",
       "      <th>29</th>\n",
       "      <td>17</td>\n",
       "      <td>40</td>\n",
       "    </tr>\n",
       "    <tr>\n",
       "      <th>30</th>\n",
       "      <td>17</td>\n",
       "      <td>50</td>\n",
       "    </tr>\n",
       "    <tr>\n",
       "      <th>31</th>\n",
       "      <td>18</td>\n",
       "      <td>42</td>\n",
       "    </tr>\n",
       "    <tr>\n",
       "      <th>32</th>\n",
       "      <td>18</td>\n",
       "      <td>56</td>\n",
       "    </tr>\n",
       "    <tr>\n",
       "      <th>33</th>\n",
       "      <td>18</td>\n",
       "      <td>76</td>\n",
       "    </tr>\n",
       "    <tr>\n",
       "      <th>34</th>\n",
       "      <td>18</td>\n",
       "      <td>84</td>\n",
       "    </tr>\n",
       "    <tr>\n",
       "      <th>35</th>\n",
       "      <td>19</td>\n",
       "      <td>36</td>\n",
       "    </tr>\n",
       "    <tr>\n",
       "      <th>36</th>\n",
       "      <td>19</td>\n",
       "      <td>46</td>\n",
       "    </tr>\n",
       "    <tr>\n",
       "      <th>37</th>\n",
       "      <td>19</td>\n",
       "      <td>68</td>\n",
       "    </tr>\n",
       "    <tr>\n",
       "      <th>38</th>\n",
       "      <td>20</td>\n",
       "      <td>32</td>\n",
       "    </tr>\n",
       "    <tr>\n",
       "      <th>39</th>\n",
       "      <td>20</td>\n",
       "      <td>48</td>\n",
       "    </tr>\n",
       "    <tr>\n",
       "      <th>40</th>\n",
       "      <td>20</td>\n",
       "      <td>52</td>\n",
       "    </tr>\n",
       "    <tr>\n",
       "      <th>41</th>\n",
       "      <td>20</td>\n",
       "      <td>56</td>\n",
       "    </tr>\n",
       "    <tr>\n",
       "      <th>42</th>\n",
       "      <td>20</td>\n",
       "      <td>64</td>\n",
       "    </tr>\n",
       "    <tr>\n",
       "      <th>43</th>\n",
       "      <td>22</td>\n",
       "      <td>66</td>\n",
       "    </tr>\n",
       "    <tr>\n",
       "      <th>44</th>\n",
       "      <td>23</td>\n",
       "      <td>54</td>\n",
       "    </tr>\n",
       "    <tr>\n",
       "      <th>45</th>\n",
       "      <td>24</td>\n",
       "      <td>70</td>\n",
       "    </tr>\n",
       "    <tr>\n",
       "      <th>46</th>\n",
       "      <td>24</td>\n",
       "      <td>92</td>\n",
       "    </tr>\n",
       "    <tr>\n",
       "      <th>47</th>\n",
       "      <td>24</td>\n",
       "      <td>93</td>\n",
       "    </tr>\n",
       "    <tr>\n",
       "      <th>48</th>\n",
       "      <td>24</td>\n",
       "      <td>120</td>\n",
       "    </tr>\n",
       "    <tr>\n",
       "      <th>49</th>\n",
       "      <td>25</td>\n",
       "      <td>85</td>\n",
       "    </tr>\n",
       "  </tbody>\n",
       "</table>\n",
       "</div>"
      ],
      "text/plain": [
       "    speed  dist\n",
       "0       4     2\n",
       "1       4    10\n",
       "2       7     4\n",
       "3       7    22\n",
       "4       8    16\n",
       "5       9    10\n",
       "6      10    18\n",
       "7      10    26\n",
       "8      10    34\n",
       "9      11    17\n",
       "10     11    28\n",
       "11     12    14\n",
       "12     12    20\n",
       "13     12    24\n",
       "14     12    28\n",
       "15     13    26\n",
       "16     13    34\n",
       "17     13    34\n",
       "18     13    46\n",
       "19     14    26\n",
       "20     14    36\n",
       "21     14    60\n",
       "22     14    80\n",
       "23     15    20\n",
       "24     15    26\n",
       "25     15    54\n",
       "26     16    32\n",
       "27     16    40\n",
       "28     17    32\n",
       "29     17    40\n",
       "30     17    50\n",
       "31     18    42\n",
       "32     18    56\n",
       "33     18    76\n",
       "34     18    84\n",
       "35     19    36\n",
       "36     19    46\n",
       "37     19    68\n",
       "38     20    32\n",
       "39     20    48\n",
       "40     20    52\n",
       "41     20    56\n",
       "42     20    64\n",
       "43     22    66\n",
       "44     23    54\n",
       "45     24    70\n",
       "46     24    92\n",
       "47     24    93\n",
       "48     24   120\n",
       "49     25    85"
      ]
     },
     "execution_count": 10,
     "metadata": {},
     "output_type": "execute_result"
    }
   ],
   "source": [
    "q9_a"
   ]
  },
  {
   "cell_type": "code",
   "execution_count": 33,
   "id": "acdfa1a8",
   "metadata": {},
   "outputs": [
    {
     "data": {
      "text/plain": [
       "(speed   -0.117510\n",
       " dist     0.806895\n",
       " dtype: float64,\n",
       " speed   -0.508994\n",
       " dist     0.405053\n",
       " dtype: float64)"
      ]
     },
     "execution_count": 33,
     "metadata": {},
     "output_type": "execute_result"
    }
   ],
   "source": [
    "q9_a_skewness=q9_a.skew()\n",
    "q9_a_kutosis=q9_a.kurt()\n",
    "\n",
    "q9_a_skewness, q9_a_kutosis"
   ]
  },
  {
   "cell_type": "code",
   "execution_count": 26,
   "id": "f5e54e31",
   "metadata": {},
   "outputs": [],
   "source": [
    "mean=200\n",
    "n=2000\n",
    "sd=30\n",
    "t_94=1.8916\n",
    "t_96=2.0673\n",
    "t_98=2.3452"
   ]
  },
  {
   "cell_type": "code",
   "execution_count": 27,
   "id": "042b0b3a",
   "metadata": {},
   "outputs": [
    {
     "data": {
      "text/plain": [
       "44.721359549995796"
      ]
     },
     "execution_count": 27,
     "metadata": {},
     "output_type": "execute_result"
    }
   ],
   "source": [
    "number=n**0.5\n",
    "number"
   ]
  },
  {
   "cell_type": "code",
   "execution_count": 28,
   "id": "814e0aac",
   "metadata": {},
   "outputs": [
    {
     "data": {
      "text/plain": [
       "0.6708203932499369"
      ]
     },
     "execution_count": 28,
     "metadata": {},
     "output_type": "execute_result"
    }
   ],
   "source": [
    "std=sd/number\n",
    "std"
   ]
  },
  {
   "cell_type": "code",
   "execution_count": 30,
   "id": "9636012f",
   "metadata": {},
   "outputs": [
    {
     "data": {
      "text/plain": [
       "(198.73107614412842,\n",
       " 201.26892385587158,\n",
       " 198.6132130010344,\n",
       " 201.3867869989656,\n",
       " 198.42679201375026,\n",
       " 201.57320798624974)"
      ]
     },
     "execution_count": 30,
     "metadata": {},
     "output_type": "execute_result"
    }
   ],
   "source": [
    "ci_94_min=mean-(t_94*std)\n",
    "ci_94_max=mean+(t_94*std)\n",
    "ci_96_min=mean-(t_96*std)\n",
    "ci_96_max=mean+(t_96*std)\n",
    "ci_98_min=mean-(t_98*std)\n",
    "ci_98_max=mean+(t_98*std)\n",
    "\n",
    "ci_94_min, ci_94_max, ci_96_min, ci_96_max, ci_98_min, ci_98_max"
   ]
  },
  {
   "cell_type": "code",
   "execution_count": 47,
   "id": "b630f829",
   "metadata": {},
   "outputs": [
    {
     "data": {
      "text/plain": [
       "201.26892385587158"
      ]
     },
     "execution_count": 47,
     "metadata": {},
     "output_type": "execute_result"
    }
   ],
   "source": [
    "ci_94=mean+(t_94*std)\n",
    "ci_94"
   ]
  },
  {
   "cell_type": "code",
   "execution_count": 48,
   "id": "1402b947",
   "metadata": {},
   "outputs": [
    {
     "data": {
      "text/plain": [
       "198.6132130010344"
      ]
     },
     "execution_count": 48,
     "metadata": {},
     "output_type": "execute_result"
    }
   ],
   "source": [
    "ci_96=mean-(t_96*std)\n",
    "ci_96"
   ]
  },
  {
   "cell_type": "code",
   "execution_count": 49,
   "id": "ead81bc5",
   "metadata": {},
   "outputs": [
    {
     "data": {
      "text/plain": [
       "201.3867869989656"
      ]
     },
     "execution_count": 49,
     "metadata": {},
     "output_type": "execute_result"
    }
   ],
   "source": [
    "ci_96=mean+(t_96*std)\n",
    "ci_96"
   ]
  },
  {
   "cell_type": "code",
   "execution_count": 52,
   "id": "2673b59d",
   "metadata": {},
   "outputs": [
    {
     "data": {
      "text/plain": [
       "198.42679201375026"
      ]
     },
     "execution_count": 52,
     "metadata": {},
     "output_type": "execute_result"
    }
   ],
   "source": [
    "ci_98=mean-(t_98*std)\n",
    "ci_98"
   ]
  },
  {
   "cell_type": "code",
   "execution_count": 53,
   "id": "74780be5",
   "metadata": {},
   "outputs": [
    {
     "data": {
      "text/plain": [
       "201.57320798624974"
      ]
     },
     "execution_count": 53,
     "metadata": {},
     "output_type": "execute_result"
    }
   ],
   "source": [
    "ci_98=mean+(t_98*std)\n",
    "ci_98"
   ]
  },
  {
   "cell_type": "code",
   "execution_count": 54,
   "id": "f348fd17",
   "metadata": {},
   "outputs": [
    {
     "data": {
      "text/plain": [
       "<AxesSubplot:>"
      ]
     },
     "execution_count": 54,
     "metadata": {},
     "output_type": "execute_result"
    },
    {
     "data": {
      "image/png": "[encoded data removed]",
      "text/plain": [
       "<Figure size 432x288 with 1 Axes>"
      ]
     },
     "metadata": {
      "needs_background": "light"
     },
     "output_type": "display_data"
    }
   ],
   "source": [
    "import pandas as pd\n",
    "my_data = pd.Series([74.75,\n",
    "72.6,\n",
    "81.8,\n",
    "83.95,\n",
    "74.65,\n",
    "71.85,\n",
    "80.9,\n",
    "83.4,\n",
    "63.5,\n",
    "73.2,\n",
    "71.9,\n",
    "75,\n",
    "73.1,\n",
    "79,\n",
    "77,\n",
    "68.85,\n",
    "75.95,\n",
    "74.15,\n",
    "73.8,\n",
    "75.9,\n",
    "76.85,\n",
    "80.9,\n",
    "79.9,\n",
    "89.2,\n",
    "82,\n",
    "92,\n",
    "86.6,\n",
    "80.5,\n",
    "86,\n",
    "82.5,\n",
    "83.5,\n",
    "88.1,\n",
    "90.8,\n",
    "89.4,\n",
    "102,\n",
    "94.5,\n",
    "91,\n",
    "103,\n",
    "80,\n",
    "79,\n",
    "83.5,\n",
    "76,\n",
    "80.5,\n",
    "86.5,\n",
    "83,\n",
    "107.1,\n",
    "94.3,\n",
    "94.5,\n",
    "9.7,\n",
    "79.3,\n",
    "89.8,\n",
    "83.8,\n",
    "85.2,\n",
    "75.5,\n",
    "78.4,\n",
    "78.6,\n",
    "87.8,\n",
    "86.3,\n",
    "85.5,\n",
    "83.7,\n",
    "77.6,\n",
    "84.9,\n",
    "79.8,\n",
    "108.3,\n",
    "119.6,\n",
    "119.9,\n",
    "96.5,\n",
    "105.5,\n",
    "105,\n",
    "107,\n",
    "107,\n",
    "101,\n",
    "97,\n",
    "100,\n",
    "108,\n",
    "100,\n",
    "103,\n",
    "104,\n",
    "106,\n",
    "109,\n",
    "103.5,\n",
    "110,\n",
    "110,\n",
    "112,\n",
    "108.5,\n",
    "104,\n",
    "111,\n",
    "108.5,\n",
    "121,\n",
    "109,\n",
    "97.5,\n",
    "105.5,\n",
    "98,\n",
    "94.5,\n",
    "97,\n",
    "105,\n",
    "106,\n",
    "99,\n",
    "91,\n",
    "102.5,\n",
    "106,\n",
    "109.1,\n",
    "115,\n",
    "101,\n",
    "100.1,\n",
    "93.3,\n",
    "101.8,\n",
    "107.9,\n",
    "108.5\n",
    "])\n",
    "my_data.hist()"
   ]
  },
  {
   "cell_type": "code",
   "execution_count": 56,
   "id": "457f1a12",
   "metadata": {},
   "outputs": [
    {
     "data": {
      "text/plain": [
       "<AxesSubplot:>"
      ]
     },
     "execution_count": 56,
     "metadata": {},
     "output_type": "execute_result"
    },
    {
     "data": {
      "image/png": "[encoded data removed]",
      "text/plain": [
       "<Figure size 432x288 with 1 Axes>"
      ]
     },
     "metadata": {
      "needs_background": "light"
     },
     "output_type": "display_data"
    }
   ],
   "source": [
    "my_data = pd.Series([12.10126289,\n",
    "18.76283667,\n",
    "19.08634055,\n",
    "19.08634055,\n",
    "19.1978876,\n",
    "19.67850666,\n",
    "19.83373318,\n",
    "21.27370792,\n",
    "23.10317168,\n",
    "23.10317168,\n",
    "23.10317168,\n",
    "23.203569,\n",
    "23.203569,\n",
    "23.51591693,\n",
    "23.51591693,\n",
    "23.60515831,\n",
    "24.48736667,\n",
    "24.60913156,\n",
    "26.85227868,\n",
    "27.35426531,\n",
    "27.85625194,\n",
    "28.8602252,\n",
    "29.62993595,\n",
    "29.62993595,\n",
    "29.62993595,\n",
    "29.62993595,\n",
    "29.62993595,\n",
    "30.13192258,\n",
    "31.01413094,\n",
    "31.01413094,\n",
    "31.11358394,\n",
    "34,\n",
    "34.07066829,\n",
    "34.07066829,\n",
    "34.07066829,\n",
    "34.56149897,\n",
    "34.56149897,\n",
    "35.05232964,\n",
    "35.15272697,\n",
    "35.15272697,\n",
    "35.15272697,\n",
    "35.40419245,\n",
    "35.64355765,\n",
    "36.28545648,\n",
    "36.28545648,\n",
    "36.9,\n",
    "37.95874317,\n",
    "37.95874317,\n",
    "38.31060597,\n",
    "38.31060597,\n",
    "38.4110033,\n",
    "38.4110033,\n",
    "38.4110033,\n",
    "38.4110033,\n",
    "38.90183397,\n",
    "39.3540941,\n",
    "39.3540941,\n",
    "39.3540941,\n",
    "39.4312352,\n",
    "39.4312352,\n",
    "39.53163253,\n",
    "40.05,\n",
    "40.47472334,\n",
    "42.29907817,\n",
    "42.78990885,\n",
    "42.78990885,\n",
    "42.8284794,\n",
    "43.4694339,\n",
    "44.65283424,\n",
    "44.65283424,\n",
    "44.65283424,\n",
    "45.69632238,\n",
    "45.69632238,\n",
    "45.73489292,\n",
    "46.71655428,\n",
    "46.71655428,\n",
    "50.01340115,\n",
    "50.01340115,\n",
    "50.01340115,\n",
    "50.50423183,\n",
    "53.70068138\n",
    "])\n",
    "my_data.hist()"
   ]
  },
  {
   "cell_type": "code",
   "execution_count": 8,
   "id": "e1e9bb24",
   "metadata": {},
   "outputs": [
    {
     "data": {
      "text/plain": [
       "0.32167411684460556"
      ]
     },
     "execution_count": 8,
     "metadata": {},
     "output_type": "execute_result"
    }
   ],
   "source": [
    "from scipy import stats\n",
    "from scipy.stats import norm\n",
    "\n",
    "t=(260-270)/(90/18**0.5)\n",
    "t\n",
    "\n",
    "p_value=1-stats.t.cdf(abs(-0.4714),df=17)\n",
    "p_value\n",
    "\n",
    "p_value=stats.t.sf(abs(-0.4714),df=17)\n",
    "p_value\n"
   ]
  },
  {
   "cell_type": "code",
   "execution_count": 59,
   "id": "d610ae8d",
   "metadata": {},
   "outputs": [
    {
     "data": {
      "text/plain": [
       "0.32167411684460556"
      ]
     },
     "execution_count": 59,
     "metadata": {},
     "output_type": "execute_result"
    }
   ],
   "source": [
    "from scipy import stats\n",
    "from scipy.stats import norm\n",
    "\n",
    "t=(260-270)/(90/18**0.5)\n",
    "\n",
    "\n",
    "p_cdf_value=1-stats.t.cdf(abs(-0.4714),df=17)\n",
    "p_cdf_value\n"
   ]
  },
  {
   "cell_type": "code",
   "execution_count": 60,
   "id": "99428e01",
   "metadata": {},
   "outputs": [
    {
     "data": {
      "text/plain": [
       "0.32167411684460556"
      ]
     },
     "execution_count": 60,
     "metadata": {},
     "output_type": "execute_result"
    }
   ],
   "source": [
    "t=(260-270)/(90/18**0.5)\n",
    "\n",
    "\n",
    "p_sf_value=stats.t.sf(abs(-0.4714),df=17)\n",
    "p_sf_value\n"
   ]
  },
  {
   "cell_type": "code",
   "execution_count": 37,
   "id": "dc313ad4",
   "metadata": {},
   "outputs": [
    {
     "name": "stdout",
     "output_type": "stream",
     "text": [
      " Volume in drive C is Windows-SSD\n",
      " Volume Serial Number is 72E3-1983\n",
      "\n",
      " Directory of C:\\Users\\kulde\\ExcelR\\Self Practice\n",
      "\n",
      "01-11-2022  00:54    <DIR>          .\n",
      "25-10-2022  11:05    <DIR>          ..\n",
      "20-10-2022  13:15    <DIR>          .ipynb_checkpoints\n",
      "19-10-2022  08:28           131,680 AI [Regression ].ipynb\n",
      "01-11-2022  00:54            49,699 Assignment practice.ipynb\n",
      "20-10-2022  22:18             3,527 Cars.csv\n",
      "21-10-2022  09:08           161,031 ML.ipynb\n",
      "16-10-2022  16:10               962 Q7.csv\n",
      "20-10-2022  15:03               502 Q9_a.csv\n",
      "20-10-2022  15:03             2,420 Q9_b.csv\n",
      "18-10-2022  18:59               355 q9ml.csv\n",
      "28-09-2022  07:06            21,677 SP  27 Sep.ipynb\n",
      "29-09-2022  08:24            12,633 SP 28 Sep.ipynb\n",
      "29-09-2022  21:30            15,589 SP 29 Sep.ipynb\n",
      "30-09-2022  17:41               589 SP 30 Sep.ipynb\n",
      "20-10-2022  23:32           324,797 Untitled.ipynb\n",
      "18-10-2022  20:28             1,172 wc-at.csv\n",
      "              14 File(s)        726,633 bytes\n",
      "               3 Dir(s)  358,164,484,096 bytes free\n"
     ]
    }
   ],
   "source": [
    "ls"
   ]
  },
  {
   "cell_type": "code",
   "execution_count": 2,
   "id": "b1894131",
   "metadata": {},
   "outputs": [],
   "source": [
    "Q20_Cars=pd.read_csv(\"Cars.csv\")"
   ]
  },
  {
   "cell_type": "code",
   "execution_count": 3,
   "id": "e3c7e7f7",
   "metadata": {},
   "outputs": [
    {
     "data": {
      "text/html": [
       "<div>\n",
       "<style scoped>\n",
       "    .dataframe tbody tr th:only-of-type {\n",
       "        vertical-align: middle;\n",
       "    }\n",
       "\n",
       "    .dataframe tbody tr th {\n",
       "        vertical-align: top;\n",
       "    }\n",
       "\n",
       "    .dataframe thead th {\n",
       "        text-align: right;\n",
       "    }\n",
       "</style>\n",
       "<table border=\"1\" class=\"dataframe\">\n",
       "  <thead>\n",
       "    <tr style=\"text-align: right;\">\n",
       "      <th></th>\n",
       "      <th>HP</th>\n",
       "      <th>MPG</th>\n",
       "      <th>VOL</th>\n",
       "      <th>SP</th>\n",
       "      <th>WT</th>\n",
       "    </tr>\n",
       "  </thead>\n",
       "  <tbody>\n",
       "    <tr>\n",
       "      <th>0</th>\n",
       "      <td>49</td>\n",
       "      <td>53.700681</td>\n",
       "      <td>89</td>\n",
       "      <td>104.185353</td>\n",
       "      <td>28.762059</td>\n",
       "    </tr>\n",
       "    <tr>\n",
       "      <th>1</th>\n",
       "      <td>55</td>\n",
       "      <td>50.013401</td>\n",
       "      <td>92</td>\n",
       "      <td>105.461264</td>\n",
       "      <td>30.466833</td>\n",
       "    </tr>\n",
       "    <tr>\n",
       "      <th>2</th>\n",
       "      <td>55</td>\n",
       "      <td>50.013401</td>\n",
       "      <td>92</td>\n",
       "      <td>105.461264</td>\n",
       "      <td>30.193597</td>\n",
       "    </tr>\n",
       "    <tr>\n",
       "      <th>3</th>\n",
       "      <td>70</td>\n",
       "      <td>45.696322</td>\n",
       "      <td>92</td>\n",
       "      <td>113.461264</td>\n",
       "      <td>30.632114</td>\n",
       "    </tr>\n",
       "    <tr>\n",
       "      <th>4</th>\n",
       "      <td>53</td>\n",
       "      <td>50.504232</td>\n",
       "      <td>92</td>\n",
       "      <td>104.461264</td>\n",
       "      <td>29.889149</td>\n",
       "    </tr>\n",
       "    <tr>\n",
       "      <th>...</th>\n",
       "      <td>...</td>\n",
       "      <td>...</td>\n",
       "      <td>...</td>\n",
       "      <td>...</td>\n",
       "      <td>...</td>\n",
       "    </tr>\n",
       "    <tr>\n",
       "      <th>76</th>\n",
       "      <td>322</td>\n",
       "      <td>36.900000</td>\n",
       "      <td>50</td>\n",
       "      <td>169.598513</td>\n",
       "      <td>16.132947</td>\n",
       "    </tr>\n",
       "    <tr>\n",
       "      <th>77</th>\n",
       "      <td>238</td>\n",
       "      <td>19.197888</td>\n",
       "      <td>115</td>\n",
       "      <td>150.576579</td>\n",
       "      <td>37.923113</td>\n",
       "    </tr>\n",
       "    <tr>\n",
       "      <th>78</th>\n",
       "      <td>263</td>\n",
       "      <td>34.000000</td>\n",
       "      <td>50</td>\n",
       "      <td>151.598513</td>\n",
       "      <td>15.769625</td>\n",
       "    </tr>\n",
       "    <tr>\n",
       "      <th>79</th>\n",
       "      <td>295</td>\n",
       "      <td>19.833733</td>\n",
       "      <td>119</td>\n",
       "      <td>167.944460</td>\n",
       "      <td>39.423099</td>\n",
       "    </tr>\n",
       "    <tr>\n",
       "      <th>80</th>\n",
       "      <td>236</td>\n",
       "      <td>12.101263</td>\n",
       "      <td>107</td>\n",
       "      <td>139.840817</td>\n",
       "      <td>34.948615</td>\n",
       "    </tr>\n",
       "  </tbody>\n",
       "</table>\n",
       "<p>81 rows × 5 columns</p>\n",
       "</div>"
      ],
      "text/plain": [
       "     HP        MPG  VOL          SP         WT\n",
       "0    49  53.700681   89  104.185353  28.762059\n",
       "1    55  50.013401   92  105.461264  30.466833\n",
       "2    55  50.013401   92  105.461264  30.193597\n",
       "3    70  45.696322   92  113.461264  30.632114\n",
       "4    53  50.504232   92  104.461264  29.889149\n",
       "..  ...        ...  ...         ...        ...\n",
       "76  322  36.900000   50  169.598513  16.132947\n",
       "77  238  19.197888  115  150.576579  37.923113\n",
       "78  263  34.000000   50  151.598513  15.769625\n",
       "79  295  19.833733  119  167.944460  39.423099\n",
       "80  236  12.101263  107  139.840817  34.948615\n",
       "\n",
       "[81 rows x 5 columns]"
      ]
     },
     "execution_count": 3,
     "metadata": {},
     "output_type": "execute_result"
    }
   ],
   "source": [
    "Q20_Cars"
   ]
  },
  {
   "cell_type": "code",
   "execution_count": 8,
   "id": "f26e5370",
   "metadata": {},
   "outputs": [
    {
     "ename": "SyntaxError",
     "evalue": "unexpected EOF while parsing (1553648527.py, line 1)",
     "output_type": "error",
     "traceback": [
      "\u001b[1;36m  Input \u001b[1;32mIn [8]\u001b[1;36m\u001b[0m\n\u001b[1;33m    p20 = np.round(1-stats.norm.cdf(20, loc = q20.MPG.mean()\u001b[0m\n\u001b[1;37m                                                            ^\u001b[0m\n\u001b[1;31mSyntaxError\u001b[0m\u001b[1;31m:\u001b[0m unexpected EOF while parsing\n"
     ]
    }
   ],
   "source": [
    "p20 = np.round(1-stats.norm.cdf(20, loc = q20.MPG.mean()"
   ]
  },
  {
   "cell_type": "code",
   "execution_count": 4,
   "id": "93c5960e",
   "metadata": {},
   "outputs": [
    {
     "data": {
      "text/plain": [
       "34.422075728024666"
      ]
     },
     "execution_count": 4,
     "metadata": {},
     "output_type": "execute_result"
    }
   ],
   "source": [
    "Q20_Cars.MPG.mean()"
   ]
  },
  {
   "cell_type": "code",
   "execution_count": 6,
   "id": "1616ca16",
   "metadata": {},
   "outputs": [
    {
     "data": {
      "text/html": [
       "<div>\n",
       "<style scoped>\n",
       "    .dataframe tbody tr th:only-of-type {\n",
       "        vertical-align: middle;\n",
       "    }\n",
       "\n",
       "    .dataframe tbody tr th {\n",
       "        vertical-align: top;\n",
       "    }\n",
       "\n",
       "    .dataframe thead th {\n",
       "        text-align: right;\n",
       "    }\n",
       "</style>\n",
       "<table border=\"1\" class=\"dataframe\">\n",
       "  <thead>\n",
       "    <tr style=\"text-align: right;\">\n",
       "      <th></th>\n",
       "      <th>Name of company</th>\n",
       "      <th>Measure X</th>\n",
       "    </tr>\n",
       "  </thead>\n",
       "  <tbody>\n",
       "    <tr>\n",
       "      <th>0</th>\n",
       "      <td>Allied Signal</td>\n",
       "      <td>24.23%</td>\n",
       "    </tr>\n",
       "    <tr>\n",
       "      <th>1</th>\n",
       "      <td>Bankers Trust</td>\n",
       "      <td>25.53%</td>\n",
       "    </tr>\n",
       "    <tr>\n",
       "      <th>2</th>\n",
       "      <td>General Mills</td>\n",
       "      <td>25.41%</td>\n",
       "    </tr>\n",
       "    <tr>\n",
       "      <th>3</th>\n",
       "      <td>ITT Industries</td>\n",
       "      <td>24.14%</td>\n",
       "    </tr>\n",
       "    <tr>\n",
       "      <th>4</th>\n",
       "      <td>J.P.Morgan &amp; Co.</td>\n",
       "      <td>29.62%</td>\n",
       "    </tr>\n",
       "    <tr>\n",
       "      <th>5</th>\n",
       "      <td>Lehman Brothers</td>\n",
       "      <td>28.25%</td>\n",
       "    </tr>\n",
       "    <tr>\n",
       "      <th>6</th>\n",
       "      <td>Marriott</td>\n",
       "      <td>25.81%</td>\n",
       "    </tr>\n",
       "    <tr>\n",
       "      <th>7</th>\n",
       "      <td>MCI</td>\n",
       "      <td>24.39%</td>\n",
       "    </tr>\n",
       "    <tr>\n",
       "      <th>8</th>\n",
       "      <td>Merrill Lynch</td>\n",
       "      <td>40.26%</td>\n",
       "    </tr>\n",
       "    <tr>\n",
       "      <th>9</th>\n",
       "      <td>Microsoft</td>\n",
       "      <td>32.95%</td>\n",
       "    </tr>\n",
       "    <tr>\n",
       "      <th>10</th>\n",
       "      <td>Morgan Stanley</td>\n",
       "      <td>91.36%</td>\n",
       "    </tr>\n",
       "    <tr>\n",
       "      <th>11</th>\n",
       "      <td>Sun Microsystems</td>\n",
       "      <td>25.99%</td>\n",
       "    </tr>\n",
       "    <tr>\n",
       "      <th>12</th>\n",
       "      <td>Travelers</td>\n",
       "      <td>39.42%</td>\n",
       "    </tr>\n",
       "    <tr>\n",
       "      <th>13</th>\n",
       "      <td>US Airways</td>\n",
       "      <td>26.71%</td>\n",
       "    </tr>\n",
       "    <tr>\n",
       "      <th>14</th>\n",
       "      <td>Warner-Lambert</td>\n",
       "      <td>35.00%</td>\n",
       "    </tr>\n",
       "  </tbody>\n",
       "</table>\n",
       "</div>"
      ],
      "text/plain": [
       "     Name of company Measure X\n",
       "0      Allied Signal    24.23%\n",
       "1      Bankers Trust    25.53%\n",
       "2      General Mills    25.41%\n",
       "3     ITT Industries    24.14%\n",
       "4   J.P.Morgan & Co.    29.62%\n",
       "5    Lehman Brothers    28.25%\n",
       "6           Marriott    25.81%\n",
       "7                MCI    24.39%\n",
       "8      Merrill Lynch    40.26%\n",
       "9          Microsoft    32.95%\n",
       "10    Morgan Stanley    91.36%\n",
       "11  Sun Microsystems    25.99%\n",
       "12         Travelers    39.42%\n",
       "13        US Airways    26.71%\n",
       "14    Warner-Lambert    35.00%"
      ]
     },
     "execution_count": 6,
     "metadata": {},
     "output_type": "execute_result"
    }
   ],
   "source": [
    "set_1=pd.read_csv(\"set_1.csv\")\n",
    "set_1"
   ]
  },
  {
   "cell_type": "code",
   "execution_count": 10,
   "id": "48962fcf",
   "metadata": {},
   "outputs": [
    {
     "ename": "SyntaxError",
     "evalue": "invalid syntax (2371605395.py, line 1)",
     "output_type": "error",
     "traceback": [
      "\u001b[1;36m  Input \u001b[1;32mIn [10]\u001b[1;36m\u001b[0m\n\u001b[1;33m    set_1[Measure X\"].mean()\u001b[0m\n\u001b[1;37m                  ^\u001b[0m\n\u001b[1;31mSyntaxError\u001b[0m\u001b[1;31m:\u001b[0m invalid syntax\n"
     ]
    }
   ],
   "source": [
    "set_1[Measure X\"].mean()"
   ]
  },
  {
   "cell_type": "code",
   "execution_count": null,
   "id": "0b80f1ab",
   "metadata": {},
   "outputs": [],
   "source": []
  }
 ],
 "metadata": {
  "kernelspec": {
   "display_name": "Python 3 (ipykernel)",
   "language": "python",
   "name": "python3"
  },
  "language_info": {
   "codemirror_mode": {
    "name": "ipython",
    "version": 3
   },
   "file_extension": ".py",
   "mimetype": "text/x-python",
   "name": "python",
   "nbconvert_exporter": "python",
   "pygments_lexer": "ipython3",
   "version": "3.9.12"
  }
 },
 "nbformat": 4,
 "nbformat_minor": 5
}
